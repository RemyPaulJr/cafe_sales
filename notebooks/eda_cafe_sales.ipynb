{
 "cells": [
  {
   "cell_type": "code",
   "execution_count": 2,
   "id": "6ea8dad6",
   "metadata": {},
   "outputs": [],
   "source": [
    "import pandas as pd"
   ]
  },
  {
   "cell_type": "code",
   "execution_count": 3,
   "id": "2bc889f4",
   "metadata": {},
   "outputs": [],
   "source": [
    "cafe = pd.read_csv(\"~/Dev/cafe_sales/dataset/dirty_cafe_sales.csv\")"
   ]
  },
  {
   "cell_type": "markdown",
   "id": "8d32d4e8",
   "metadata": {},
   "source": [
    "Inspect this kaggle dataset"
   ]
  },
  {
   "cell_type": "code",
   "execution_count": null,
   "id": "43e9cbd1",
   "metadata": {},
   "outputs": [],
   "source": [
    "print(\"Info:\",cafe.info())\n",
    "print(\"Describe: \\n\",cafe.describe())\n",
    "print(\"Columns:\")\n",
    "print(cafe.columns)\n",
    "print(cafe.head(10))"
   ]
  },
  {
   "cell_type": "markdown",
   "id": "4d88c0f0",
   "metadata": {},
   "source": [
    "Grab null counts for each column:"
   ]
  },
  {
   "cell_type": "code",
   "execution_count": null,
   "id": "88b3cad2",
   "metadata": {},
   "outputs": [],
   "source": [
    "for n in cafe:\n",
    "    count = cafe[n].isnull().sum()\n",
    "    print(n, '-', count)"
   ]
  },
  {
   "cell_type": "markdown",
   "id": "839bf279",
   "metadata": {},
   "source": [
    "Grab unique values in each column and their respective counts:"
   ]
  },
  {
   "cell_type": "code",
   "execution_count": null,
   "id": "a194731c",
   "metadata": {},
   "outputs": [],
   "source": [
    "for n in cafe:\n",
    "    print(n)\n",
    "    print(cafe[n].unique(), print(cafe[n].value_counts()))"
   ]
  },
  {
   "cell_type": "markdown",
   "id": "d2db4b4e",
   "metadata": {},
   "source": [
    "### Cleaning"
   ]
  },
  {
   "cell_type": "code",
   "execution_count": null,
   "id": "aa9e8a05",
   "metadata": {},
   "outputs": [],
   "source": []
  }
 ],
 "metadata": {
  "kernelspec": {
   "display_name": ".venv",
   "language": "python",
   "name": "python3"
  },
  "language_info": {
   "codemirror_mode": {
    "name": "ipython",
    "version": 3
   },
   "file_extension": ".py",
   "mimetype": "text/x-python",
   "name": "python",
   "nbconvert_exporter": "python",
   "pygments_lexer": "ipython3",
   "version": "3.13.5"
  }
 },
 "nbformat": 4,
 "nbformat_minor": 5
}
