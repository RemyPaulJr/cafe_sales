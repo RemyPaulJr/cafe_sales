{
 "cells": [
  {
   "cell_type": "code",
   "execution_count": 1,
   "id": "6ea8dad6",
   "metadata": {},
   "outputs": [],
   "source": [
    "import pandas as pd"
   ]
  },
  {
   "cell_type": "code",
   "execution_count": 4,
   "id": "2bc889f4",
   "metadata": {},
   "outputs": [],
   "source": [
    "cafe = pd.read_csv(\"~/Dev/cafe_sales/dataset/dirty_cafe_sales.csv\")"
   ]
  },
  {
   "cell_type": "markdown",
   "id": "8d32d4e8",
   "metadata": {},
   "source": [
    "Inspect this kaggle dataset"
   ]
  },
  {
   "cell_type": "code",
   "execution_count": 10,
   "id": "43e9cbd1",
   "metadata": {},
   "outputs": [
    {
     "name": "stdout",
     "output_type": "stream",
     "text": [
      "<class 'pandas.core.frame.DataFrame'>\n",
      "RangeIndex: 10000 entries, 0 to 9999\n",
      "Data columns (total 8 columns):\n",
      " #   Column            Non-Null Count  Dtype \n",
      "---  ------            --------------  ----- \n",
      " 0   Transaction ID    10000 non-null  object\n",
      " 1   Item              9667 non-null   object\n",
      " 2   Quantity          9862 non-null   object\n",
      " 3   Price Per Unit    9821 non-null   object\n",
      " 4   Total Spent       9827 non-null   object\n",
      " 5   Payment Method    7421 non-null   object\n",
      " 6   Location          6735 non-null   object\n",
      " 7   Transaction Date  9841 non-null   object\n",
      "dtypes: object(8)\n",
      "memory usage: 625.1+ KB\n",
      "None\n",
      "       Transaction ID   Item Quantity Price Per Unit Total Spent  \\\n",
      "count           10000   9667     9862           9821        9827   \n",
      "unique          10000     10        7              8          19   \n",
      "top       TXN_1961373  Juice        5            3.0         6.0   \n",
      "freq                1   1171     2013           2429         979   \n",
      "\n",
      "        Payment Method  Location Transaction Date  \n",
      "count             7421      6735             9841  \n",
      "unique               5         4              367  \n",
      "top     Digital Wallet  Takeaway          UNKNOWN  \n",
      "freq              2291      3022              159  \n",
      "Columns:\n",
      "Index(['Transaction ID', 'Item', 'Quantity', 'Price Per Unit', 'Total Spent',\n",
      "       'Payment Method', 'Location', 'Transaction Date'],\n",
      "      dtype='object')\n",
      "  Transaction ID      Item Quantity Price Per Unit Total Spent  \\\n",
      "0    TXN_1961373    Coffee        2            2.0         4.0   \n",
      "1    TXN_4977031      Cake        4            3.0        12.0   \n",
      "2    TXN_4271903    Cookie        4            1.0       ERROR   \n",
      "3    TXN_7034554     Salad        2            5.0        10.0   \n",
      "4    TXN_3160411    Coffee        2            2.0         4.0   \n",
      "5    TXN_2602893  Smoothie        5            4.0        20.0   \n",
      "6    TXN_4433211   UNKNOWN        3            3.0         9.0   \n",
      "7    TXN_6699534  Sandwich        4            4.0        16.0   \n",
      "8    TXN_4717867       NaN        5            3.0        15.0   \n",
      "9    TXN_2064365  Sandwich        5            4.0        20.0   \n",
      "\n",
      "   Payment Method  Location Transaction Date  \n",
      "0     Credit Card  Takeaway       2023-09-08  \n",
      "1            Cash  In-store       2023-05-16  \n",
      "2     Credit Card  In-store       2023-07-19  \n",
      "3         UNKNOWN   UNKNOWN       2023-04-27  \n",
      "4  Digital Wallet  In-store       2023-06-11  \n",
      "5     Credit Card       NaN       2023-03-31  \n",
      "6           ERROR  Takeaway       2023-10-06  \n",
      "7            Cash   UNKNOWN       2023-10-28  \n",
      "8             NaN  Takeaway       2023-07-28  \n",
      "9             NaN  In-store       2023-12-31  \n"
     ]
    }
   ],
   "source": [
    "print(cafe.info())\n",
    "print(cafe.describe())\n",
    "print(\"Columns:\")\n",
    "print(cafe.columns)\n",
    "print(cafe.head(10))"
   ]
  },
  {
   "cell_type": "markdown",
   "id": "4d88c0f0",
   "metadata": {},
   "source": []
  },
  {
   "cell_type": "code",
   "execution_count": 13,
   "id": "88b3cad2",
   "metadata": {},
   "outputs": [
    {
     "name": "stdout",
     "output_type": "stream",
     "text": [
      "Transaction ID - 0\n",
      "Item - 333\n",
      "Quantity - 138\n",
      "Price Per Unit - 179\n",
      "Total Spent - 173\n",
      "Payment Method - 2579\n",
      "Location - 3265\n",
      "Transaction Date - 159\n"
     ]
    }
   ],
   "source": [
    "for n in cafe:\n",
    "    count = cafe[n].isnull().sum()\n",
    "    print(n, '-', count)"
   ]
  },
  {
   "cell_type": "code",
   "execution_count": null,
   "id": "a194731c",
   "metadata": {},
   "outputs": [],
   "source": []
  }
 ],
 "metadata": {
  "kernelspec": {
   "display_name": ".venv",
   "language": "python",
   "name": "python3"
  },
  "language_info": {
   "codemirror_mode": {
    "name": "ipython",
    "version": 3
   },
   "file_extension": ".py",
   "mimetype": "text/x-python",
   "name": "python",
   "nbconvert_exporter": "python",
   "pygments_lexer": "ipython3",
   "version": "3.13.5"
  }
 },
 "nbformat": 4,
 "nbformat_minor": 5
}
